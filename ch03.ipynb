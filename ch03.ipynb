{
 "cells": [
  {
   "cell_type": "markdown",
   "source": [
    "第三章 案例一 —— 为什么销售额会减少"
   ],
   "metadata": {}
  },
  {
   "cell_type": "code",
   "execution_count": null,
   "source": [
    "import os\r\n",
    "import pandas as pd\r\n",
    "import numpy as np"
   ],
   "outputs": [],
   "metadata": {}
  },
  {
   "cell_type": "markdown",
   "source": [
    "读入CSV文件"
   ],
   "metadata": {}
  },
  {
   "cell_type": "code",
   "execution_count": null,
   "source": [
    "filepath = os.getcwd() + '/datasets/' "
   ],
   "outputs": [],
   "metadata": {}
  },
  {
   "cell_type": "code",
   "execution_count": null,
   "source": [
    "## 包含各个日期里使用该应用的全部用户的ID\r\n",
    "dau = pd.read_csv(filepath + 'section3-dau.csv') \r\n",
    "dau.head()"
   ],
   "outputs": [],
   "metadata": {}
  },
  {
   "cell_type": "code",
   "execution_count": null,
   "source": [
    "## 保存有消费行为的用户每日所消费的金额数据\r\n",
    "dpu = pd.read_csv(filepath + 'section3-dpu.csv')\r\n",
    "dpu.head()"
   ],
   "outputs": [],
   "metadata": {}
  },
  {
   "cell_type": "code",
   "execution_count": null,
   "source": [
    "## 保存各个用户是在何年何月何日首次玩这个应用的数据\r\n",
    "install = pd.read_csv(filepath + 'section3-install.csv')\r\n",
    "install.head()"
   ],
   "outputs": [],
   "metadata": {}
  },
  {
   "cell_type": "markdown",
   "source": [
    "合并数据集"
   ],
   "metadata": {}
  },
  {
   "cell_type": "code",
   "execution_count": null,
   "source": [
    "dau_install = dau.merge(install, how='inner', on=['user_id', 'app_name'])\r\n",
    "dau_install.head()"
   ],
   "outputs": [],
   "metadata": {}
  },
  {
   "cell_type": "code",
   "execution_count": null,
   "source": [
    "dau_install_payment = dau_install.merge(dpu, how='left', on=['log_date', 'app_name', 'user_id'])\r\n",
    "dau_install_payment.head()"
   ],
   "outputs": [],
   "metadata": {}
  },
  {
   "cell_type": "code",
   "execution_count": null,
   "source": [
    "dau_install_payment.loc[dau_install_payment.payment.notnull()].head()"
   ],
   "outputs": [],
   "metadata": {}
  },
  {
   "cell_type": "code",
   "execution_count": null,
   "source": [
    "## 将未消费的记录的消费额设置为0\r\n",
    "dau_install_payment.payment.fillna(0, inplace=True)\r\n",
    "dau_install_payment.head()"
   ],
   "outputs": [],
   "metadata": {}
  },
  {
   "cell_type": "markdown",
   "source": [
    "按月统计"
   ],
   "metadata": {}
  },
  {
   "cell_type": "code",
   "execution_count": null,
   "source": [
    "## 增加一列表示月份\r\n",
    "dau_install_payment['log_month'] = dau_install_payment['log_date'].apply(lambda x: x[:7])\r\n",
    "dau_install_payment['install_month'] = dau_install_payment['install_date'].apply(lambda x: x[:7])\r\n",
    "dau_install_payment.head()"
   ],
   "outputs": [],
   "metadata": {}
  },
  {
   "cell_type": "code",
   "execution_count": null,
   "source": [
    "mau_payment = dau_install_payment.groupby(['user_id', 'log_month', 'install_month'])['payment'].sum().reset_index()\r\n",
    "mau_payment.head()"
   ],
   "outputs": [],
   "metadata": {}
  },
  {
   "cell_type": "markdown",
   "source": [
    "增加属性来区分新用户和已有用户"
   ],
   "metadata": {}
  },
  {
   "cell_type": "code",
   "execution_count": null,
   "source": [
    "# mau_payment['user_type'] = None\r\n",
    "# mau_payment.loc[mau_payment['install_month'] == mau_payment['log_month'], 'user_type'] = 'install'\r\n",
    "# mau_payment.loc[mau_payment['install_month'] != mau_payment['log_month'], 'user_type'] = 'existing'\r\n",
    "\r\n",
    "mau_payment['user_type'] = np.where((mau_payment['install_month'] == mau_payment['log_month']), 'install', 'existing')\r\n",
    "mau_payment.head()"
   ],
   "outputs": [],
   "metadata": {}
  },
  {
   "cell_type": "code",
   "execution_count": null,
   "source": [
    "mau_payment_summary = mau_payment.groupby(['log_month', 'user_type'])['payment'].sum().reset_index()\r\n",
    "mau_payment_summary.head()"
   ],
   "outputs": [],
   "metadata": {}
  },
  {
   "cell_type": "markdown",
   "source": [
    "数据可视化"
   ],
   "metadata": {}
  },
  {
   "cell_type": "code",
   "execution_count": null,
   "source": [
    "import matplotlib.pyplot as plt\r\n",
    "\r\n",
    "plt.style.use('seaborn-deep')\r\n",
    "plt.rcParams['font.sans-serif']=['SimHei'] #用来正常显示中文标签\r\n",
    "plt.rcParams['axes.unicode_minus']=False #用来正常显示负号\r\n",
    "\r\n",
    "%matplotlib inline"
   ],
   "outputs": [],
   "metadata": {}
  },
  {
   "cell_type": "code",
   "execution_count": null,
   "source": [
    "width = 0.35\r\n",
    "months = ['2013-06', '2013-07']\r\n",
    "existing = [177886.0, 177886.0]\r\n",
    "install = [49837.0, 29199.0]\r\n",
    "p1 = plt.bar(months, existing, width)\r\n",
    "p2 = plt.bar(months, install, width, bottom=existing)\r\n",
    "plt.xlabel(\"log_month\")\r\n",
    "plt.ylabel(\"total payment\")\r\n",
    "plt.legend((p1[0], p2[0]), ('existing', 'install'))\r\n",
    "plt.title(\"游戏销售额比较(上月/本月)\")\r\n",
    "plt.show()"
   ],
   "outputs": [],
   "metadata": {}
  },
  {
   "cell_type": "code",
   "execution_count": null,
   "source": [
    "install = mau_payment.loc[(mau_payment['user_type'] == 'install') & (mau_payment['payment'] > 0)]\r\n",
    "install.head()"
   ],
   "outputs": [],
   "metadata": {}
  },
  {
   "cell_type": "code",
   "execution_count": null,
   "source": [
    "bins = np.linspace(0, 16000, 10)\r\n",
    "month_06 = list(install.loc[install['log_month'] == '2013-06', 'payment'])\r\n",
    "month_07 = list(install.loc[install['log_month'] == '2013-07', 'payment'])"
   ],
   "outputs": [],
   "metadata": {}
  },
  {
   "cell_type": "code",
   "execution_count": null,
   "source": [
    "plt.hist([month_06, month_07], bins, label=['2013-06', '2013-07'])\r\n",
    "plt.legend(loc='upper right')\r\n",
    "plt.title(\"游戏新用户销售额比较(上月/本月)\")\r\n",
    "plt.show()"
   ],
   "outputs": [],
   "metadata": {}
  }
 ],
 "metadata": {
  "orig_nbformat": 4,
  "language_info": {
   "name": "python",
   "version": "3.7.6",
   "mimetype": "text/x-python",
   "codemirror_mode": {
    "name": "ipython",
    "version": 3
   },
   "pygments_lexer": "ipython3",
   "nbconvert_exporter": "python",
   "file_extension": ".py"
  },
  "kernelspec": {
   "name": "python3",
   "display_name": "Python 3.7.6 64-bit ('base': conda)"
  },
  "interpreter": {
   "hash": "4ba962433ce634cde499a2def155867a3065a4841db75053b162653b9c20e813"
  }
 },
 "nbformat": 4,
 "nbformat_minor": 2
}