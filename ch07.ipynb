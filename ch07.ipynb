{
 "cells": [
  {
   "cell_type": "code",
   "execution_count": null,
   "metadata": {},
   "outputs": [],
   "source": [
    "import os\n",
    "import numpy as np\n",
    "import pandas as pd"
   ]
  },
  {
   "cell_type": "code",
   "execution_count": null,
   "metadata": {},
   "outputs": [],
   "source": [
    "filepath = os.getcwd() + '/datasets/'"
   ]
  },
  {
   "cell_type": "markdown",
   "metadata": {},
   "source": [
    "读入CSV数据"
   ]
  },
  {
   "cell_type": "code",
   "execution_count": null,
   "metadata": {},
   "outputs": [],
   "source": [
    "dau = pd.read_csv(filepath + 'section7-dau.csv')\n",
    "dau.head()"
   ]
  },
  {
   "cell_type": "code",
   "execution_count": null,
   "metadata": {},
   "outputs": [],
   "source": [
    "## MAU\n",
    "mau = dau.drop_duplicates(subset=[\"region_month\", \"device\", \"user_id\"], keep='first')\n",
    "## FP MAU\n",
    "fp_mau = dau.loc[dau['device'] == 'FP'].drop_duplicates(subset=[\"region_month\", \"device\", \"user_id\"], keep='first')\n",
    "## SP MAU\n",
    "sp_mau = dau.loc[dau['device'] == 'SP'].drop_duplicates(subset=[\"region_month\", \"device\", \"user_id\"], keep='first')"
   ]
  },
  {
   "cell_type": "code",
   "execution_count": null,
   "metadata": {},
   "outputs": [],
   "source": []
  }
 ],
 "metadata": {
  "interpreter": {
   "hash": "4027a6336bc1541d1b89071d8afeb287e065fbc38311cf264ccc3ebf86fa9ab8"
  },
  "kernelspec": {
   "display_name": "Python 3.7.6 64-bit ('base': conda)",
   "name": "python3"
  },
  "language_info": {
   "codemirror_mode": {
    "name": "ipython",
    "version": 3
   },
   "file_extension": ".py",
   "mimetype": "text/x-python",
   "name": "python",
   "nbconvert_exporter": "python",
   "pygments_lexer": "ipython3",
   "version": "3.7.6"
  },
  "orig_nbformat": 4
 },
 "nbformat": 4,
 "nbformat_minor": 2
}
